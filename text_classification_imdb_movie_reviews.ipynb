{
 "cells": [
  {
   "cell_type": "code",
   "execution_count": 1,
   "metadata": {},
   "outputs": [],
   "source": [
    "import pandas as pd\n",
    "import tensorflow as tf\n",
    "from tensorflow import keras\n",
    "import numpy as np"
   ]
  },
  {
   "cell_type": "code",
   "execution_count": 2,
   "metadata": {},
   "outputs": [],
   "source": [
    "# load the dataset from imdb\n",
    "data = keras.datasets.imdb"
   ]
  },
  {
   "cell_type": "code",
   "execution_count": 3,
   "metadata": {},
   "outputs": [
    {
     "name": "stderr",
     "output_type": "stream",
     "text": [
      "/Users/meow/opt/anaconda3/lib/python3.7/site-packages/tensorflow/python/keras/datasets/imdb.py:155: VisibleDeprecationWarning: Creating an ndarray from ragged nested sequences (which is a list-or-tuple of lists-or-tuples-or ndarrays with different lengths or shapes) is deprecated. If you meant to do this, you must specify 'dtype=object' when creating the ndarray.\n",
      "  x_train, y_train = np.array(xs[:idx]), np.array(labels[:idx])\n",
      "/Users/meow/opt/anaconda3/lib/python3.7/site-packages/tensorflow/python/keras/datasets/imdb.py:156: VisibleDeprecationWarning: Creating an ndarray from ragged nested sequences (which is a list-or-tuple of lists-or-tuples-or ndarrays with different lengths or shapes) is deprecated. If you meant to do this, you must specify 'dtype=object' when creating the ndarray.\n",
      "  x_test, y_test = np.array(xs[idx:]), np.array(labels[idx:])\n"
     ]
    }
   ],
   "source": [
    "# split the dataset to training and testing\n",
    "(train_data, train_labels), (test_data, test_labels) = data.load_data(num_words = 88000)"
   ]
  },
  {
   "cell_type": "code",
   "execution_count": 4,
   "metadata": {},
   "outputs": [
    {
     "name": "stdout",
     "output_type": "stream",
     "text": [
      "[1, 778, 128, 74, 12, 630, 163, 15, 4, 1766, 7982, 1051, 43222, 32, 85, 156, 45, 40, 148, 139, 121, 664, 665, 10, 10, 1361, 173, 4, 749, 86588, 16, 3804, 8, 4, 226, 65, 12, 43, 127, 24, 15344, 10, 10]\n"
     ]
    }
   ],
   "source": [
    "# print out the first word\n",
    "print(train_data[5])"
   ]
  },
  {
   "cell_type": "markdown",
   "metadata": {},
   "source": [
    "Every word is given a machine-readable integer."
   ]
  },
  {
   "cell_type": "code",
   "execution_count": 5,
   "metadata": {},
   "outputs": [],
   "source": [
    "# k = key, v = value\n",
    "word_index = data.get_word_index()\n",
    "\n",
    "word_index = {k: (v + 3) for k, v in word_index.items()}\n",
    "word_index[\"<PAD>\"] = 0 # add padding to make all the reviews the same length (same as the longest)\n",
    "word_index[\"<START>\"] = 1\n",
    "word_index[\"<UNK>\"] = 2 # unknown characters\n",
    "word_index[\"<UNUSED>\"] = 3"
   ]
  },
  {
   "cell_type": "code",
   "execution_count": 6,
   "metadata": {},
   "outputs": [],
   "source": [
    "# reverse the words from the values back to words\n",
    "reverse_word_index = dict([(value, key) for (key, value) in word_index.items()])"
   ]
  },
  {
   "cell_type": "code",
   "execution_count": 7,
   "metadata": {},
   "outputs": [
    {
     "name": "stdout",
     "output_type": "stream",
     "text": [
      "<START>originallysupposedtobejustapartofahugeepictheyear1905depictingtherevolutionof1905potemkinisthestoryofthemutinyofthecrewofthepotemkininodessaharborthefilmopenswiththecrewprotestingmeatandthecaptainorderingtheexecutionoftheanuprisingtakesplaceduringwhichtherevolutionaryleaderiskilledthiscrewmanistakentotheshoretolieinstatewhenthetownspeoplegatheronahugeflightofstepsoverlookingtheharborczaristtroopsappearandmarchdownthestepsbreakingupthecrowdanavalsquadronissenttoretakethepotemkinbutatthemomentwhentheshipscomeintorangetheircrewsallowthetopassthrougheisenstein'snonhistoricallyaccurateendingisopenendedthusindicatingthatthiswastheseedofthelaterbolshevikrevolutionthatwouldbloominrussiathefilmisbrokenintofivepartsmenandmaggotsdramaontheanappealfromthedeadtheodessastepsandmeetingthesquadronbrbreisensteinwasarevolutionaryartistbutatthegeniuslevelnotwantingtomakeahistoricaldramaeisensteinusedvisualtexturetogivethefilmanewsreellooksothattheviewerfeelsheiseavesdroppingonathrillingandpoliticallyrevolutionarystorythistechniqueisusedbythebattleofalgiersbrbrunlikeeisensteinreliedonorthecastingofnonprofessionalswhohadstrikingphysicalappearancestheextraordinaryfacesofthecastarewhatoneremembersfrompotemkinthistechniqueislaterusedbyfrankcaprainmrdeedsgoestotownandmeetjohndoebutinpotemkinnooneindividualiscastasaheroorheroinethestoryistoldthroughaseriesofscenesthatarecombinedinaspecialeffectknownasmontagetheeditingandselectionofshortsegmentstoproduceadesiredeffectontheviewerdwgriffithalsousedthemontagebutnoonemastereditsowellaseisensteinbrbrtheartisticfilmingofthecrewsleepingintheiriscomplementedbythegracefulswingingoftablessuspendedfromchainsinthegalleyincontrasttheconfrontationbetweenthecrewandtheirofficersischargedwithelectricityandtheclenchedfistsofthemassesdemonstratetheirragewithinjusticebrbreisensteinintroducedthetechniqueofshowinganactionandrepeatingitagainbutfromaslightlydifferentangletodemonstrateintensitythebreakingofaplatebearingthewordsgiveusthisdayourdailybreadsignifiesthebeginningoftheendthistechniqueisusedinlastyearatmarienbadalsowhentheship'ssurgeonistossedoverthesidehisnezdanglesfromtheriggingitwastheseglassesthattheofficerusedtoinspectandpassthemaggotinfestedmeatthissequencetiesthepunishmenttothecorruptionoftheczaristerabrbrthemostnotedsequenceinthefilmandperhapsinalloffilmhistoryistheodessastepsthebroadexpanseofthestepsarefilledwithhundredsofextrasrapidanddramaticviolenceisalwayssuggestedandnotexplicityetthevisualimagesofthedeathsofafewwilllastinthemindsoftheviewerforeverbrbrtheangularshotsofmarchingbootsandlegsdescendingthestepsarecleverlyaccentuatedwithlongmenacingshadowsfromasunatthetopofthestepsthepaceofthesequenceisdeliberatelyvariedbetweenthemarchingsoldiersandafewcivilianswhosummonupcouragetobegthemtostopacloseupofawoman'sfacefrozeninhorrorafterbeingstruckbyasoldier'sswordisthedirectantecedentofthebanktellerinbonnieinclydeandgivesalastingimpressionofthehorroroftheczaristregimebrbrthedeathofayoungmotherleadstoababycarriagecareeningdownthestepsinasequencethathasbeencopiedbyhitchcockinforeigncorrespondentbyterrygilliaminbrazilandbriandepalmaintheuntouchablesthissequenceisshownrepeatedlyfromvariousanglesthusdrawingoutwhatprobablywasonlyafivesecondeventbrbrpotemkinisafilmthattherevolutionaryspiritcelebratesitforthosealreadycommittedanditfortheunconverteditseethesoffireandroarswiththesenselessinjusticesofthedecadentczaristregimeitsgreatestimpacthasbeenonfilmstudentswhohaveborrowedandonlyslightlyimprovedontechniquesinventedinrussiaseveralgenerationsago\n"
     ]
    }
   ],
   "source": [
    "# if a word is not found, \"?\" is used so the program does not crash\n",
    "def decode_review(text):\n",
    "    return \"\".join([reverse_word_index.get(i, \"?\") for i in text])\n",
    "\n",
    "print(decode_review(test_data[6]))"
   ]
  },
  {
   "cell_type": "code",
   "execution_count": 8,
   "metadata": {},
   "outputs": [
    {
     "name": "stdout",
     "output_type": "stream",
     "text": [
      "25000 25000\n"
     ]
    }
   ],
   "source": [
    "# keep the same length (250) for both training and testing data\n",
    "train_data = keras.preprocessing.sequence.pad_sequences(train_data, \n",
    "                                                       value = word_index[\"<PAD>\"], padding = \"post\", maxlen = 250\n",
    "                                                      )\n",
    "\n",
    "test_data = keras.preprocessing.sequence.pad_sequences(test_data, \n",
    "                                                       value = word_index[\"<PAD>\"], padding = \"post\", maxlen = 250\n",
    "                                                      )\n",
    "\n",
    "print(len(train_data), len(test_data))"
   ]
  },
  {
   "cell_type": "code",
   "execution_count": 9,
   "metadata": {},
   "outputs": [
    {
     "name": "stdout",
     "output_type": "stream",
     "text": [
      "250 250\n"
     ]
    }
   ],
   "source": [
    "print(len(test_data[0]), len(test_data[1]))"
   ]
  },
  {
   "cell_type": "markdown",
   "metadata": {},
   "source": [
    "Building the model"
   ]
  },
  {
   "cell_type": "code",
   "execution_count": 10,
   "metadata": {},
   "outputs": [],
   "source": [
    "x_val = train_labels[:5000]\n",
    "x_train = train_labels[5000:]\n",
    "\n",
    "y_val = train_labels[:5000]\n",
    "y_train = train_labels[5000:]"
   ]
  },
  {
   "cell_type": "code",
   "execution_count": 11,
   "metadata": {},
   "outputs": [],
   "source": [
    "from tensorflow.keras import layers\n",
    "\n",
    "model = keras.Sequential([\n",
    "    layers.Embedding (88000, 16), # the embedding layer is trying to group words with similar meanings together\n",
    "    layers.GlobalAveragePooling1D (), # lower the dimensions with GlobalAveragePooling1D\n",
    "    layers.Dense(16, activation = 'sigmoid'),\n",
    "    layers.Dropout(0.3),\n",
    "    layers.BatchNormalization(),\n",
    "    layers.Dense(1, activation = 'sigmoid'),\n",
    "])"
   ]
  },
  {
   "cell_type": "code",
   "execution_count": 12,
   "metadata": {},
   "outputs": [
    {
     "name": "stdout",
     "output_type": "stream",
     "text": [
      "Model: \"sequential\"\n",
      "_________________________________________________________________\n",
      "Layer (type)                 Output Shape              Param #   \n",
      "=================================================================\n",
      "embedding (Embedding)        (None, None, 16)          1408000   \n",
      "_________________________________________________________________\n",
      "global_average_pooling1d (Gl (None, 16)                0         \n",
      "_________________________________________________________________\n",
      "dense (Dense)                (None, 16)                272       \n",
      "_________________________________________________________________\n",
      "dropout (Dropout)            (None, 16)                0         \n",
      "_________________________________________________________________\n",
      "batch_normalization (BatchNo (None, 16)                64        \n",
      "_________________________________________________________________\n",
      "dense_1 (Dense)              (None, 1)                 17        \n",
      "=================================================================\n",
      "Total params: 1,408,353\n",
      "Trainable params: 1,408,321\n",
      "Non-trainable params: 32\n",
      "_________________________________________________________________\n"
     ]
    }
   ],
   "source": [
    "model.summary()"
   ]
  },
  {
   "cell_type": "code",
   "execution_count": 13,
   "metadata": {},
   "outputs": [],
   "source": [
    "model.compile(\n",
    "    optimizer = 'adam',\n",
    "    loss = 'binary_crossentropy', # the results are either 0 or 1 (neg/pos) from the sigmoid function\n",
    "    metrics = ['accuracy']\n",
    ")"
   ]
  },
  {
   "cell_type": "code",
   "execution_count": 14,
   "metadata": {
    "scrolled": false
   },
   "outputs": [
    {
     "name": "stdout",
     "output_type": "stream",
     "text": [
      "Epoch 1/30\n",
      "40/40 - 1s - loss: 0.8831 - accuracy: 0.5211 - val_loss: 0.7113 - val_accuracy: 0.5092\n",
      "Epoch 2/30\n",
      "40/40 - 1s - loss: 0.7187 - accuracy: 0.6040 - val_loss: 0.5936 - val_accuracy: 0.5092\n",
      "Epoch 3/30\n",
      "40/40 - 1s - loss: 0.4828 - accuracy: 0.7696 - val_loss: 0.4023 - val_accuracy: 1.0000\n",
      "Epoch 4/30\n",
      "40/40 - 1s - loss: 0.2586 - accuracy: 0.9193 - val_loss: 0.2110 - val_accuracy: 1.0000\n",
      "Epoch 5/30\n",
      "40/40 - 1s - loss: 0.1395 - accuracy: 0.9740 - val_loss: 0.0975 - val_accuracy: 1.0000\n",
      "Epoch 6/30\n",
      "40/40 - 1s - loss: 0.0868 - accuracy: 0.9877 - val_loss: 0.0467 - val_accuracy: 1.0000\n",
      "Epoch 7/30\n",
      "40/40 - 1s - loss: 0.0591 - accuracy: 0.9933 - val_loss: 0.0249 - val_accuracy: 1.0000\n",
      "Epoch 8/30\n",
      "40/40 - 1s - loss: 0.0437 - accuracy: 0.9955 - val_loss: 0.0146 - val_accuracy: 1.0000\n",
      "Epoch 9/30\n",
      "40/40 - 1s - loss: 0.0347 - accuracy: 0.9969 - val_loss: 0.0096 - val_accuracy: 1.0000\n",
      "Epoch 10/30\n",
      "40/40 - 1s - loss: 0.0275 - accuracy: 0.9983 - val_loss: 0.0068 - val_accuracy: 1.0000\n",
      "Epoch 11/30\n",
      "40/40 - 1s - loss: 0.0243 - accuracy: 0.9976 - val_loss: 0.0051 - val_accuracy: 1.0000\n",
      "Epoch 12/30\n",
      "40/40 - 1s - loss: 0.0196 - accuracy: 0.9988 - val_loss: 0.0040 - val_accuracy: 1.0000\n",
      "Epoch 13/30\n",
      "40/40 - 1s - loss: 0.0163 - accuracy: 0.9991 - val_loss: 0.0033 - val_accuracy: 1.0000\n",
      "Epoch 14/30\n",
      "40/40 - 1s - loss: 0.0149 - accuracy: 0.9988 - val_loss: 0.0027 - val_accuracy: 1.0000\n",
      "Epoch 15/30\n",
      "40/40 - 1s - loss: 0.0133 - accuracy: 0.9990 - val_loss: 0.0023 - val_accuracy: 1.0000\n",
      "Epoch 16/30\n",
      "40/40 - 1s - loss: 0.0115 - accuracy: 0.9991 - val_loss: 0.0020 - val_accuracy: 1.0000\n",
      "Epoch 17/30\n",
      "40/40 - 1s - loss: 0.0112 - accuracy: 0.9992 - val_loss: 0.0017 - val_accuracy: 1.0000\n",
      "Epoch 18/30\n",
      "40/40 - 1s - loss: 0.0101 - accuracy: 0.9993 - val_loss: 0.0016 - val_accuracy: 1.0000\n",
      "Epoch 19/30\n",
      "40/40 - 1s - loss: 0.0089 - accuracy: 0.9995 - val_loss: 0.0014 - val_accuracy: 1.0000\n",
      "Epoch 20/30\n",
      "40/40 - 1s - loss: 0.0081 - accuracy: 0.9995 - val_loss: 0.0012 - val_accuracy: 1.0000\n",
      "Epoch 21/30\n",
      "40/40 - 1s - loss: 0.0077 - accuracy: 0.9996 - val_loss: 0.0011 - val_accuracy: 1.0000\n",
      "Epoch 22/30\n",
      "40/40 - 1s - loss: 0.0069 - accuracy: 0.9994 - val_loss: 9.6562e-04 - val_accuracy: 1.0000\n",
      "Epoch 23/30\n",
      "40/40 - 1s - loss: 0.0067 - accuracy: 0.9995 - val_loss: 8.7702e-04 - val_accuracy: 1.0000\n",
      "Epoch 24/30\n",
      "40/40 - 1s - loss: 0.0059 - accuracy: 0.9997 - val_loss: 7.8406e-04 - val_accuracy: 1.0000\n",
      "Epoch 25/30\n",
      "40/40 - 1s - loss: 0.0056 - accuracy: 0.9996 - val_loss: 7.1347e-04 - val_accuracy: 1.0000\n",
      "Epoch 26/30\n",
      "40/40 - 1s - loss: 0.0055 - accuracy: 0.9997 - val_loss: 6.4732e-04 - val_accuracy: 1.0000\n",
      "Epoch 27/30\n",
      "40/40 - 1s - loss: 0.0048 - accuracy: 0.9999 - val_loss: 5.8983e-04 - val_accuracy: 1.0000\n",
      "Epoch 28/30\n",
      "40/40 - 1s - loss: 0.0048 - accuracy: 0.9997 - val_loss: 5.4546e-04 - val_accuracy: 1.0000\n",
      "Epoch 29/30\n",
      "40/40 - 1s - loss: 0.0046 - accuracy: 0.9995 - val_loss: 4.9979e-04 - val_accuracy: 1.0000\n",
      "Epoch 30/30\n",
      "40/40 - 1s - loss: 0.0041 - accuracy: 0.9997 - val_loss: 4.5474e-04 - val_accuracy: 1.0000\n"
     ]
    }
   ],
   "source": [
    "history = model.fit(\n",
    "    x_train, y_train,\n",
    "    validation_data = (x_val, y_val),\n",
    "    batch_size = 512,\n",
    "    epochs = 30,\n",
    "    verbose = 2,\n",
    ")"
   ]
  },
  {
   "cell_type": "code",
   "execution_count": 15,
   "metadata": {},
   "outputs": [
    {
     "data": {
      "image/png": "[encoded data removed]",
      "text/plain": [
       "<Figure size 432x288 with 1 Axes>"
      ]
     },
     "metadata": {},
     "output_type": "display_data"
    }
   ],
   "source": [
    "import matplotlib.pyplot as plt\n",
    "\n",
    "plt.style.use('seaborn-whitegrid')\n",
    "\n",
    "# Set Matplotlib defaults\n",
    "plt.rc('figure', autolayout = True)\n",
    "plt.rc('axes', labelweight = 'bold', labelsize = 'large',\n",
    "       titleweight = 'bold', titlesize = 32, titlepad = 20)\n",
    "\n",
    "# Show the learning curves\n",
    "history_data = pd.DataFrame(history.history)\n",
    "history_data.loc[:, ['loss', 'val_loss']].plot();"
   ]
  },
  {
   "cell_type": "code",
   "execution_count": 16,
   "metadata": {},
   "outputs": [
    {
     "name": "stdout",
     "output_type": "stream",
     "text": [
      "782/782 [==============================] - 1s 2ms/step - loss: 1.4963 - accuracy: 0.4965\n",
      "[1.4962517023086548, 0.49647998809814453]\n"
     ]
    }
   ],
   "source": [
    "results = model.evaluate(test_data, test_labels)\n",
    "print(results)"
   ]
  },
  {
   "cell_type": "code",
   "execution_count": 17,
   "metadata": {},
   "outputs": [
    {
     "name": "stdout",
     "output_type": "stream",
     "text": [
      "Review: \n",
      "thestepsarefilledwithhundredsofextrasrapidanddramaticviolenceisalwayssuggestedandnotexplicityetthevisualimagesofthedeathsofafewwilllastinthemindsoftheviewerforeverbrbrtheangularshotsofmarchingbootsandlegsdescendingthestepsarecleverlyaccentuatedwithlongmenacingshadowsfromasunatthetopofthestepsthepaceofthesequenceisdeliberatelyvariedbetweenthemarchingsoldiersandafewcivilianswhosummonupcouragetobegthemtostopacloseupofawoman'sfacefrozeninhorrorafterbeingstruckbyasoldier'sswordisthedirectantecedentofthebanktellerinbonnieinclydeandgivesalastingimpressionofthehorroroftheczaristregimebrbrthedeathofayoungmotherleadstoababycarriagecareeningdownthestepsinasequencethathasbeencopiedbyhitchcockinforeigncorrespondentbyterrygilliaminbrazilandbriandepalmaintheuntouchablesthissequenceisshownrepeatedlyfromvariousanglesthusdrawingoutwhatprobablywasonlyafivesecondeventbrbrpotemkinisafilmthattherevolutionaryspiritcelebratesitforthosealreadycommittedanditfortheunconverteditseethesoffireandroarswiththesenselessinjusticesofthedecadentczaristregimeitsgreatestimpacthasbeenonfilmstudentswhohaveborrowedandonlyslightlyimprovedontechniquesinventedinrussiaseveralgenerationsago\n",
      "Prediction: [0.67038995]\n",
      "Actual: 1\n"
     ]
    }
   ],
   "source": [
    "test_review = test_data[6]\n",
    "predict = model.predict([test_review])\n",
    "print('Review: ')\n",
    "print(decode_review(test_review))\n",
    "print('Prediction: ' + str(predict[6]))\n",
    "print('Actual: '+ str(test_labels[6]))"
   ]
  }
 ],
 "metadata": {
  "kernelspec": {
   "display_name": "Python 3",
   "language": "python",
   "name": "python3"
  },
  "language_info": {
   "codemirror_mode": {
    "name": "ipython",
    "version": 3
   },
   "file_extension": ".py",
   "mimetype": "text/x-python",
   "name": "python",
   "nbconvert_exporter": "python",
   "pygments_lexer": "ipython3",
   "version": "3.7.6"
  }
 },
 "nbformat": 4,
 "nbformat_minor": 4
}
